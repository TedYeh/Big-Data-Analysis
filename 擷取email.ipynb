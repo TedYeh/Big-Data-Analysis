{
  "nbformat": 4,
  "nbformat_minor": 0,
  "metadata": {
    "colab": {
      "name": "擷取email.ipynb",
      "provenance": []
    },
    "kernelspec": {
      "name": "python3",
      "display_name": "Python 3"
    }
  },
  "cells": [
    {
      "cell_type": "code",
      "metadata": {
        "colab": {
          "base_uri": "https://localhost:8080/"
        },
        "id": "d0Z59rNsoXZ_",
        "outputId": "a623dd42-d765-4968-ff05-f0034f2a732e"
      },
      "source": [
        "import argparse\n",
        "import urllib.request\n",
        "import re\n",
        "isEnd = False\n",
        "urls = []\n",
        "while not isEnd:\n",
        "  url = input('輸入你想爬取email的網站(輸入end結束輸入)')\n",
        "  if url == 'end':\n",
        "    isEnd = True\n",
        "    continue\n",
        "  urls.append(url)"
      ],
      "execution_count": 5,
      "outputs": [
        {
          "output_type": "stream",
          "text": [
            "輸入你想爬取email的網站(輸入end結束輸入)http://www.csie.ncku.edu.tw/ncku_csie/depmember/teacher\n",
            "輸入你想爬取email的網站(輸入end結束輸入)https://university.1111.com.tw/company.asp?sid=51&pgtp=4&codeNo=1000031203&fbclid=IwAR1dzMjEHIadkFcGrlZ4G7cjWeOU6x0afU882u4O6VUh82rrws0KZxsmUkQ#gsc.tab=0\n",
            "輸入你想爬取email的網站(輸入end結束輸入)https://www.nstm.gov.tw/Service/Volunteer/Ask/Contact.htm?fbclid=IwAR3mKB-4Q5BKPU2zqwbZGCaZ7xabPLB9A0sOh6seRzbGklwrioeAxm3IF-w\n",
            "輸入你想爬取email的網站(輸入end結束輸入)end\n"
          ],
          "name": "stdout"
        }
      ]
    },
    {
      "cell_type": "code",
      "metadata": {
        "colab": {
          "base_uri": "https://localhost:8080/"
        },
        "id": "8fMJQuKpojgn",
        "outputId": "e04cbf54-4b92-4991-ec4c-9df2d8a79c67"
      },
      "source": [
        "import re\n",
        "for url in urls:\n",
        "  r = requests.get(url) #將此頁面的HTML GET下來\n",
        "  r.encoding = 'utf-8'\n",
        "  string = r.text\n",
        "  email_pattern = r'([A-Za-z0-9]+((-\\w+)|(\\.\\w+))*\\@[A-Za-z0-9]+((\\.|-)[A-Za-z0-9]+)*\\.[A-Za-z]+)'\n",
        "  #pattern = r'((?:[a-z0-9!#$%&\\'*+/=?^_`{|}~-]+(?:\\.[a-z0-9!#$%&\\'*+/=?^_`{|}~-]+)*|\"(?:[\\x01-\\x08\\x0b\\x0c\\x0e-\\x1f\\x21\\x23-\\x5b\\x5d-\\x7f]|\\\\[\\x01-\\x09\\x0b\\x0c\\x0e-\\x7f])*\")@(?:(?:[a-z0-9](?:[a-z0-9-]*[a-z0-9])?\\.)+[a-z0-9](?:[a-z0-9-]*[a-z0-9])?|\\[(?:(?:(2(5[0-5]|[0-4][0-9])|1[0-9][0-9]|[1-9]?[0-9]))\\.){3}(?:(2(5[0-5]|[0-4][0-9])|1[0-9][0-9]|[1-9]?[0-9])|[a-z0-9-]*[a-z0-9]:(?:[\\x01-\\x08\\x0b\\x0c\\x0e-\\x1f\\x21-\\x5a\\x53-\\x7f]|\\\\[\\x01-\\x09\\x0b\\x0c\\x0e-\\x7f])+)\\]))'\n",
        "  #regex = re.compile(email_pattern)\n",
        "  emails = re.findall(email_pattern, string)\n",
        "  valid = []\n",
        "  for email in emails:\n",
        "    if re.search(email_pattern, email[0]):\n",
        "      valid.append(email[0])\n",
        "\n",
        "  for email in set(valid):\n",
        "    print(email)\n",
        "  print('-'*60)\n",
        "  print(f'共{len(set(valid))}筆')\n",
        "  print()"
      ],
      "execution_count": 7,
      "outputs": [
        {
          "output_type": "stream",
          "text": [
            "hwangtl@csie.ncku.edu.tw\n",
            "tsaimh@csie.ncku.edu.tw\n",
            "ynsun@mail.ncku.edu.tw\n",
            "suecc@mail.ncku.edu.tw\n",
            "ymchen@mail.ncku.edu.tw\n",
            "wtchu@gs.ncku.edu.tw\n",
            "slchen@mail.ncku.edu.tw\n",
            "klan@csie.ncku.edu.tw\n",
            "jielee@mail.ncku.edu.tw\n",
            "huangcm@locust.csie.ncku.edu.tw\n",
            "kuoyh@ismp.csie.ncku.edu.tw\n",
            "whlu@mail.ncku.edu.tw\n",
            "cmdhuang@gmail.com\n",
            "jchiang@mail.ncku.edu.tw\n",
            "chencc@imis.ncku.edu.tw\n",
            "hchsiao@csie.ncku.edu.tw\n",
            "qsquek@ieee.org\n",
            "hsucf@csie.ncku.edu.tw\n",
            "leec@mail.ncku.edu.tw\n",
            "phtsai@mail.ncku.edu.tw\n",
            "chengft@mail.ncku.edu.tw\n",
            "yang@citi.sinica.edu.tw\n",
            "alvinsu@mail.ncku.edu.tw\n",
            "shyhhau@mail.ncku.edu.tw\n",
            "dryncku@gmail.com\n",
            "tonylee@mail.ncku.edu.tw\n",
            "hykao@mail.ncku.edu.tw\n",
            "stcheng@mail.ncku.edu.tw\n",
            "ktchuang@mail.ncku.edu.tw\n",
            "iclin@mail.ncku.edu.tw\n",
            "liao@iis.sinica.edu.tw\n",
            "davidchang@csie.ncku.edu.tw\n",
            "miyen@iis.sinica.edu.tw\n",
            "chucp@csie.ncku.edu.tw\n",
            "chunghsienwu@gmail.com\n",
            "minglong.wu@csie.ncku.edu.tw\n",
            "hsu@iis.sinica.edu.tw\n",
            "jjlien@csie.ncku.edu.tw\n",
            "yu.tsao@citi.sinica.edu.tw\n",
            "changrh@mail.ncku.edu.tw\n",
            "paulh@iscb.org\n",
            "guosm@mail.ncku.edu.tw\n",
            "sfliang@mail.ncku.edu.tw\n",
            "em62500@email.ncku.edu.tw\n",
            "tyang@mail.ncku.edu.tw\n",
            "hsiehsy@mail.ncku.edu.tw\n",
            "ykchang@mail.ncku.edu.tw\n",
            "chiaheng@mail.ncku.edu.tw\n",
            "jserv.tw@gmail.com\n",
            "shyhhau@gmail.com\n",
            "chency@csie.ncku.edu.tw\n",
            "hkwang@gs.ncku.edu.tw\n",
            "cylee@mail.ncku.edu.tw\n",
            "whm@iis.sinica.edu.tw\n",
            "pychen@mail.ncku.edu.tw\n",
            "chwu@csie.ncku.edu.tw\n",
            "------------------------------------------------------------\n",
            "共56筆\n",
            "\n",
            "joycehsueh@staff.1111.com.tw\n",
            "ivy.huang@staff.1111.com.tw\n",
            "vivi.chou@staff.1111.com.tw\n",
            "blue800918@staff.1111.com.tw\n",
            "------------------------------------------------------------\n",
            "共4筆\n",
            "\n",
            "volun@mail.nstm.gov.tw\n",
            "tatsai@mail.nstm.gov.tw\n",
            "linda@mail.nstm.gov.tw\n",
            "public@mail.nstm.gov.tw\n",
            "------------------------------------------------------------\n",
            "共4筆\n",
            "\n"
          ],
          "name": "stdout"
        }
      ]
    },
    {
      "cell_type": "code",
      "metadata": {
        "id": "uEpo184t0vU8"
      },
      "source": [
        ""
      ],
      "execution_count": null,
      "outputs": []
    }
  ]
}